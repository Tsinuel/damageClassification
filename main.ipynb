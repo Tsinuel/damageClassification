{
 "cells": [
  {
   "cell_type": "markdown",
   "metadata": {
    "id": "WQ215j15RWgr"
   },
   "source": [
    "# **Read and convert image data**"
   ]
  },
  {
   "cell_type": "markdown",
   "metadata": {},
   "source": [
    "This code reads the before and after images as well as their labels and then processes it."
   ]
  },
  {
   "cell_type": "markdown",
   "metadata": {},
   "source": [
    "## Setup environment"
   ]
  },
  {
   "cell_type": "code",
   "execution_count": null,
   "metadata": {},
   "outputs": [],
   "source": [
    "import numpy as np\n",
    "import skimage as ski\n",
    "from skimage import io\n",
    "import pandas as pd\n",
    "import matplotlib.pyplot as plt\n",
    "import os"
   ]
  },
  {
   "cell_type": "code",
   "execution_count": null,
   "metadata": {},
   "outputs": [],
   "source": [
    "workDir = os.getcwd()\n",
    "db = 'database/'\n",
    "\n",
    "print(db)"
   ]
  },
  {
   "cell_type": "markdown",
   "metadata": {},
   "source": [
    "### Reader function"
   ]
  },
  {
   "cell_type": "code",
   "execution_count": null,
   "metadata": {},
   "outputs": [],
   "source": [
    "def readImage(path):\n",
    "    img = io.imread(path,False)\n",
    "    return img\n",
    "\n",
    "def readImages(paths):\n",
    "    imgs = io.imread_collection(paths)\n",
    "    return imgs"
   ]
  },
  {
   "cell_type": "code",
   "execution_count": null,
   "metadata": {},
   "outputs": [],
   "source": [
    "imgIDlist = pd.read_csv(db+'idList.csv')\n",
    "# print(imgIDlist)\n",
    "nWidth = 8 # width of ID in file name\n",
    "\n",
    "imgName_pre = [db + hur + '_' + str(id).rjust(nWidth,'0') + '_pre_disaster.png' \n",
    "    for hur, id in zip(imgIDlist.Disaster, imgIDlist.ID)]\n",
    "\n",
    "imgName_post = [db + hur + '_' + str(id).rjust(nWidth,'0') + '_post_disaster.png' \n",
    "    for hur, id in zip(imgIDlist.Disaster, imgIDlist.ID)]\n",
    "\n",
    "# print(imgName_pre)\n",
    "# print(imgName_post)\n",
    "\n",
    "img_pre = readImages(imgName_pre)\n",
    "img_post = readImages(imgName_post)\n",
    "print(len(img_pre))\n",
    "\n",
    "# plot samples\n",
    "plt.figure()\n",
    "io.imshow(img_pre[0])\n",
    "plt.title('Pre-disaster')\n",
    "\n",
    "plt.figure()\n",
    "io.imshow(img_post[0])\n",
    "plt.title('Post-disaster')\n",
    "\n",
    "# # show all at once\n",
    "# io.imshow_collection(img_pre) "
   ]
  },
  {
   "cell_type": "markdown",
   "metadata": {},
   "source": [
    "### Read labels"
   ]
  },
  {
   "cell_type": "code",
   "execution_count": 58,
   "metadata": {},
   "outputs": [],
   "source": [
    "def readLabelFile(file_post):\n",
    "    # TO DO (Aaron): code to read all polygons representing a building footprint and \n",
    "    #       damage state for each from the .json files. Look for packages that could \n",
    "    #       handle .json file type before attempting to do it manually.\n",
    "\n",
    "    # initialize 'buildings' variable to number of buildings in this image\n",
    "    # loop through lng_lat\n",
    "        # extract feature_type, sub_type, and wkt(polygon) into a list or pandas \n",
    "    \n",
    "    \n",
    "    # return feature_type, sub_type, wkt\n",
    "    return buildings"
   ]
  },
  {
   "cell_type": "code",
   "execution_count": null,
   "metadata": {},
   "outputs": [],
   "source": [
    "# TO DO (Aaron): Loop through all images and call readLabelFile() to extract \n",
    "#               polygons and labels. Start with this format and modify it if necessary.\n",
    "\n",
    "# create the list text file names from imgId list csv\n",
    "txtName_pre = [db + hur + '_' + str(id).rjust(nWidth,'0') + '_pre_disaster.json' \n",
    "    for hur, id in zip(imgIDlist.Disaster, imgIDlist.ID)]\n",
    "txtName_post = [db + hur + '_' + str(id).rjust(nWidth,'0') + '_post_disaster.json' \n",
    "    for hur, id in zip(imgIDlist.Disaster, imgIDlist.ID)]\n",
    "\n",
    "# buildings, damageStates = [readLabelFile(pre, post)\n",
    "#     for pre, post in zip(txtName_pre, txtName_post)]\n",
    "buildings = []\n",
    "damageStates = []\n",
    "\n",
    "for i,_ in enumerate(txtName_pre):\n",
    "    bldg = readLabelFile(txtName_post[i])\n",
    "    buildings.append(bldg)\n"
   ]
  },
  {
   "cell_type": "markdown",
   "metadata": {},
   "source": [
    "### Verification of polygons and damage indicators"
   ]
  },
  {
   "cell_type": "code",
   "execution_count": 72,
   "metadata": {},
   "outputs": [],
   "source": [
    "# TO DO (Aaron): plot overlay of polygons on images to verify correctness of extraction.\n",
    "# another text\n"
   ]
  },
  {
   "cell_type": "markdown",
   "metadata": {},
   "source": [
    "### Breakdown the image based on the polygons"
   ]
  },
  {
   "cell_type": "code",
   "execution_count": 71,
   "metadata": {},
   "outputs": [],
   "source": [
    "def extractBuilding(image, polygon):\n",
    "    # TO DO (Abiy): code to extract area of the given image based on a given polygon. \n",
    "    bldgImg = 0\n",
    "\n",
    "    return bldgImg"
   ]
  },
  {
   "cell_type": "code",
   "execution_count": null,
   "metadata": {},
   "outputs": [],
   "source": [
    "# TO DO (Abiy): Loop through all images and individual buildings and call extractBuilding() to extract \n",
    "# individual buildings"
   ]
  },
  {
   "cell_type": "markdown",
   "metadata": {},
   "source": [
    "### Verification of extracted buildings"
   ]
  },
  {
   "cell_type": "code",
   "execution_count": null,
   "metadata": {},
   "outputs": [],
   "source": [
    "# TO DO (Abiy): plot extracted individual buildings (pre- and post-disaster) to verify\n",
    "#               the correctness."
   ]
  }
 ],
 "metadata": {
  "colab": {
   "collapsed_sections": [],
   "name": "ECE9603A_assign1.ipynb",
   "provenance": []
  },
  "interpreter": {
   "hash": "b3ba2566441a7c06988d0923437866b63cedc61552a5af99d1f4fb67d367b25f"
  },
  "kernelspec": {
   "display_name": "Python 3.8.8 64-bit ('base': conda)",
   "name": "python3"
  },
  "language_info": {
   "codemirror_mode": {
    "name": "ipython",
    "version": 3
   },
   "file_extension": ".py",
   "mimetype": "text/x-python",
   "name": "python",
   "nbconvert_exporter": "python",
   "pygments_lexer": "ipython3",
   "version": "3.8.8"
  }
 },
 "nbformat": 4,
 "nbformat_minor": 4
}
